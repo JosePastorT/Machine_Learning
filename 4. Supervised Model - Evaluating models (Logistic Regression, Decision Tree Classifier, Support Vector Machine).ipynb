{
 "cells": [
  {
   "cell_type": "markdown",
   "id": "08a455bc",
   "metadata": {},
   "source": [
    "# Supervised Model\n",
    "It is desired to predict whether a woman will participate in the Peruvian labor market based on certain characteristics such as age, level of schooling, marital status, number of children, health status, and geographic region of residence.\n",
    "\n",
    "Note: The base contains variables squared for age and education corresponding to their characteristic diminishing marginal return.\n",
    "\n",
    "For this, three Machine Learning models will be used: Logistic Regression, Decision Tree Classifier and Support Vector Machine."
   ]
  },
  {
   "cell_type": "code",
   "execution_count": 1,
   "id": "83e15797",
   "metadata": {},
   "outputs": [],
   "source": [
    "import pandas as pd\n",
    "import os\n",
    "import matplotlib.pyplot as plt"
   ]
  },
  {
   "cell_type": "code",
   "execution_count": 2,
   "id": "8a3f1969",
   "metadata": {},
   "outputs": [],
   "source": [
    "# necessary libraries\n",
    "\n",
    "from sklearn.model_selection import train_test_split\n",
    "\n",
    "from sklearn.linear_model import LogisticRegression\n",
    "from sklearn.tree import DecisionTreeClassifier\n",
    "from sklearn.svm import SVC\n",
    "from sklearn import metrics"
   ]
  },
  {
   "cell_type": "code",
   "execution_count": 3,
   "id": "0c32adee",
   "metadata": {
    "scrolled": false
   },
   "outputs": [
    {
     "data": {
      "text/html": [
       "<div>\n",
       "<style scoped>\n",
       "    .dataframe tbody tr th:only-of-type {\n",
       "        vertical-align: middle;\n",
       "    }\n",
       "\n",
       "    .dataframe tbody tr th {\n",
       "        vertical-align: top;\n",
       "    }\n",
       "\n",
       "    .dataframe thead th {\n",
       "        text-align: right;\n",
       "    }\n",
       "</style>\n",
       "<table border=\"1\" class=\"dataframe\">\n",
       "  <thead>\n",
       "    <tr style=\"text-align: right;\">\n",
       "      <th></th>\n",
       "      <th>participates</th>\n",
       "      <th>age</th>\n",
       "      <th>age_sqrd</th>\n",
       "      <th>education</th>\n",
       "      <th>education_sqrd</th>\n",
       "      <th>married</th>\n",
       "      <th>children</th>\n",
       "      <th>illness</th>\n",
       "      <th>coast</th>\n",
       "      <th>mountains</th>\n",
       "      <th>jungle</th>\n",
       "    </tr>\n",
       "  </thead>\n",
       "  <tbody>\n",
       "    <tr>\n",
       "      <th>0</th>\n",
       "      <td>1.0</td>\n",
       "      <td>50</td>\n",
       "      <td>2500</td>\n",
       "      <td>6.0</td>\n",
       "      <td>36.0</td>\n",
       "      <td>0</td>\n",
       "      <td>0</td>\n",
       "      <td>1.0</td>\n",
       "      <td>0</td>\n",
       "      <td>1</td>\n",
       "      <td>0</td>\n",
       "    </tr>\n",
       "    <tr>\n",
       "      <th>1</th>\n",
       "      <td>1.0</td>\n",
       "      <td>27</td>\n",
       "      <td>729</td>\n",
       "      <td>11.0</td>\n",
       "      <td>121.0</td>\n",
       "      <td>0</td>\n",
       "      <td>0</td>\n",
       "      <td>1.0</td>\n",
       "      <td>0</td>\n",
       "      <td>1</td>\n",
       "      <td>0</td>\n",
       "    </tr>\n",
       "    <tr>\n",
       "      <th>2</th>\n",
       "      <td>0.0</td>\n",
       "      <td>65</td>\n",
       "      <td>4225</td>\n",
       "      <td>2.0</td>\n",
       "      <td>4.0</td>\n",
       "      <td>0</td>\n",
       "      <td>0</td>\n",
       "      <td>1.0</td>\n",
       "      <td>0</td>\n",
       "      <td>1</td>\n",
       "      <td>0</td>\n",
       "    </tr>\n",
       "    <tr>\n",
       "      <th>3</th>\n",
       "      <td>1.0</td>\n",
       "      <td>34</td>\n",
       "      <td>1156</td>\n",
       "      <td>11.0</td>\n",
       "      <td>121.0</td>\n",
       "      <td>0</td>\n",
       "      <td>0</td>\n",
       "      <td>1.0</td>\n",
       "      <td>0</td>\n",
       "      <td>1</td>\n",
       "      <td>0</td>\n",
       "    </tr>\n",
       "    <tr>\n",
       "      <th>4</th>\n",
       "      <td>0.0</td>\n",
       "      <td>22</td>\n",
       "      <td>484</td>\n",
       "      <td>14.0</td>\n",
       "      <td>196.0</td>\n",
       "      <td>0</td>\n",
       "      <td>0</td>\n",
       "      <td>1.0</td>\n",
       "      <td>0</td>\n",
       "      <td>1</td>\n",
       "      <td>0</td>\n",
       "    </tr>\n",
       "    <tr>\n",
       "      <th>...</th>\n",
       "      <td>...</td>\n",
       "      <td>...</td>\n",
       "      <td>...</td>\n",
       "      <td>...</td>\n",
       "      <td>...</td>\n",
       "      <td>...</td>\n",
       "      <td>...</td>\n",
       "      <td>...</td>\n",
       "      <td>...</td>\n",
       "      <td>...</td>\n",
       "      <td>...</td>\n",
       "    </tr>\n",
       "    <tr>\n",
       "      <th>27116</th>\n",
       "      <td>1.0</td>\n",
       "      <td>29</td>\n",
       "      <td>841</td>\n",
       "      <td>14.0</td>\n",
       "      <td>196.0</td>\n",
       "      <td>0</td>\n",
       "      <td>0</td>\n",
       "      <td>1.0</td>\n",
       "      <td>1</td>\n",
       "      <td>0</td>\n",
       "      <td>0</td>\n",
       "    </tr>\n",
       "    <tr>\n",
       "      <th>27117</th>\n",
       "      <td>1.0</td>\n",
       "      <td>27</td>\n",
       "      <td>729</td>\n",
       "      <td>16.0</td>\n",
       "      <td>256.0</td>\n",
       "      <td>1</td>\n",
       "      <td>1</td>\n",
       "      <td>0.0</td>\n",
       "      <td>1</td>\n",
       "      <td>0</td>\n",
       "      <td>0</td>\n",
       "    </tr>\n",
       "    <tr>\n",
       "      <th>27118</th>\n",
       "      <td>1.0</td>\n",
       "      <td>28</td>\n",
       "      <td>784</td>\n",
       "      <td>14.0</td>\n",
       "      <td>196.0</td>\n",
       "      <td>0</td>\n",
       "      <td>1</td>\n",
       "      <td>0.0</td>\n",
       "      <td>1</td>\n",
       "      <td>0</td>\n",
       "      <td>0</td>\n",
       "    </tr>\n",
       "    <tr>\n",
       "      <th>27119</th>\n",
       "      <td>0.0</td>\n",
       "      <td>33</td>\n",
       "      <td>1089</td>\n",
       "      <td>14.0</td>\n",
       "      <td>196.0</td>\n",
       "      <td>1</td>\n",
       "      <td>2</td>\n",
       "      <td>0.0</td>\n",
       "      <td>1</td>\n",
       "      <td>0</td>\n",
       "      <td>0</td>\n",
       "    </tr>\n",
       "    <tr>\n",
       "      <th>27120</th>\n",
       "      <td>1.0</td>\n",
       "      <td>41</td>\n",
       "      <td>1681</td>\n",
       "      <td>10.0</td>\n",
       "      <td>100.0</td>\n",
       "      <td>1</td>\n",
       "      <td>0</td>\n",
       "      <td>0.0</td>\n",
       "      <td>1</td>\n",
       "      <td>0</td>\n",
       "      <td>0</td>\n",
       "    </tr>\n",
       "  </tbody>\n",
       "</table>\n",
       "<p>27121 rows × 11 columns</p>\n",
       "</div>"
      ],
      "text/plain": [
       "       participates  age  age_sqrd  education  education_sqrd  married  \\\n",
       "0               1.0   50      2500        6.0            36.0        0   \n",
       "1               1.0   27       729       11.0           121.0        0   \n",
       "2               0.0   65      4225        2.0             4.0        0   \n",
       "3               1.0   34      1156       11.0           121.0        0   \n",
       "4               0.0   22       484       14.0           196.0        0   \n",
       "...             ...  ...       ...        ...             ...      ...   \n",
       "27116           1.0   29       841       14.0           196.0        0   \n",
       "27117           1.0   27       729       16.0           256.0        1   \n",
       "27118           1.0   28       784       14.0           196.0        0   \n",
       "27119           0.0   33      1089       14.0           196.0        1   \n",
       "27120           1.0   41      1681       10.0           100.0        1   \n",
       "\n",
       "       children  illness  coast  mountains  jungle  \n",
       "0             0      1.0      0          1       0  \n",
       "1             0      1.0      0          1       0  \n",
       "2             0      1.0      0          1       0  \n",
       "3             0      1.0      0          1       0  \n",
       "4             0      1.0      0          1       0  \n",
       "...         ...      ...    ...        ...     ...  \n",
       "27116         0      1.0      1          0       0  \n",
       "27117         1      0.0      1          0       0  \n",
       "27118         1      0.0      1          0       0  \n",
       "27119         2      0.0      1          0       0  \n",
       "27120         0      0.0      1          0       0  \n",
       "\n",
       "[27121 rows x 11 columns]"
      ]
     },
     "execution_count": 3,
     "metadata": {},
     "output_type": "execute_result"
    }
   ],
   "source": [
    "# reading data and deep copy of relevant variables\n",
    "\n",
    "df_sqrd = pd.read_csv('../dataGitHub/Participacion laboral femenina.csv', encoding='latin-1')\n",
    "df_sqrd = df_sqrd[['participa', 'edad', 'edad2', 'escolaridad', 'escolaridad2', 'convcas', 'nninos', 'enfermedad', 'costa', 'sierra', 'selva']].copy()\n",
    "df_sqrd.columns = ['participates', 'age', 'age_sqrd', 'education', 'education_sqrd', 'married', 'children', 'illness', 'coast', 'mountains', 'jungle' ]\n",
    "df_sqrd"
   ]
  },
  {
   "cell_type": "code",
   "execution_count": 6,
   "id": "fdf34546",
   "metadata": {},
   "outputs": [
    {
     "data": {
      "text/html": [
       "<div>\n",
       "<style scoped>\n",
       "    .dataframe tbody tr th:only-of-type {\n",
       "        vertical-align: middle;\n",
       "    }\n",
       "\n",
       "    .dataframe tbody tr th {\n",
       "        vertical-align: top;\n",
       "    }\n",
       "\n",
       "    .dataframe thead th {\n",
       "        text-align: right;\n",
       "    }\n",
       "</style>\n",
       "<table border=\"1\" class=\"dataframe\">\n",
       "  <thead>\n",
       "    <tr style=\"text-align: right;\">\n",
       "      <th></th>\n",
       "      <th>participates</th>\n",
       "      <th>age</th>\n",
       "      <th>age_sqrd</th>\n",
       "      <th>education</th>\n",
       "      <th>education_sqrd</th>\n",
       "      <th>married</th>\n",
       "      <th>children</th>\n",
       "      <th>illness</th>\n",
       "      <th>coast</th>\n",
       "      <th>mountains</th>\n",
       "      <th>jungle</th>\n",
       "    </tr>\n",
       "  </thead>\n",
       "  <tbody>\n",
       "    <tr>\n",
       "      <th>0</th>\n",
       "      <td>1</td>\n",
       "      <td>50</td>\n",
       "      <td>2500</td>\n",
       "      <td>6</td>\n",
       "      <td>36</td>\n",
       "      <td>0</td>\n",
       "      <td>0</td>\n",
       "      <td>1</td>\n",
       "      <td>0</td>\n",
       "      <td>1</td>\n",
       "      <td>0</td>\n",
       "    </tr>\n",
       "    <tr>\n",
       "      <th>1</th>\n",
       "      <td>1</td>\n",
       "      <td>27</td>\n",
       "      <td>729</td>\n",
       "      <td>11</td>\n",
       "      <td>121</td>\n",
       "      <td>0</td>\n",
       "      <td>0</td>\n",
       "      <td>1</td>\n",
       "      <td>0</td>\n",
       "      <td>1</td>\n",
       "      <td>0</td>\n",
       "    </tr>\n",
       "    <tr>\n",
       "      <th>2</th>\n",
       "      <td>0</td>\n",
       "      <td>65</td>\n",
       "      <td>4225</td>\n",
       "      <td>2</td>\n",
       "      <td>4</td>\n",
       "      <td>0</td>\n",
       "      <td>0</td>\n",
       "      <td>1</td>\n",
       "      <td>0</td>\n",
       "      <td>1</td>\n",
       "      <td>0</td>\n",
       "    </tr>\n",
       "    <tr>\n",
       "      <th>3</th>\n",
       "      <td>1</td>\n",
       "      <td>34</td>\n",
       "      <td>1156</td>\n",
       "      <td>11</td>\n",
       "      <td>121</td>\n",
       "      <td>0</td>\n",
       "      <td>0</td>\n",
       "      <td>1</td>\n",
       "      <td>0</td>\n",
       "      <td>1</td>\n",
       "      <td>0</td>\n",
       "    </tr>\n",
       "    <tr>\n",
       "      <th>4</th>\n",
       "      <td>0</td>\n",
       "      <td>22</td>\n",
       "      <td>484</td>\n",
       "      <td>14</td>\n",
       "      <td>196</td>\n",
       "      <td>0</td>\n",
       "      <td>0</td>\n",
       "      <td>1</td>\n",
       "      <td>0</td>\n",
       "      <td>1</td>\n",
       "      <td>0</td>\n",
       "    </tr>\n",
       "    <tr>\n",
       "      <th>...</th>\n",
       "      <td>...</td>\n",
       "      <td>...</td>\n",
       "      <td>...</td>\n",
       "      <td>...</td>\n",
       "      <td>...</td>\n",
       "      <td>...</td>\n",
       "      <td>...</td>\n",
       "      <td>...</td>\n",
       "      <td>...</td>\n",
       "      <td>...</td>\n",
       "      <td>...</td>\n",
       "    </tr>\n",
       "    <tr>\n",
       "      <th>27116</th>\n",
       "      <td>1</td>\n",
       "      <td>29</td>\n",
       "      <td>841</td>\n",
       "      <td>14</td>\n",
       "      <td>196</td>\n",
       "      <td>0</td>\n",
       "      <td>0</td>\n",
       "      <td>1</td>\n",
       "      <td>1</td>\n",
       "      <td>0</td>\n",
       "      <td>0</td>\n",
       "    </tr>\n",
       "    <tr>\n",
       "      <th>27117</th>\n",
       "      <td>1</td>\n",
       "      <td>27</td>\n",
       "      <td>729</td>\n",
       "      <td>16</td>\n",
       "      <td>256</td>\n",
       "      <td>1</td>\n",
       "      <td>1</td>\n",
       "      <td>0</td>\n",
       "      <td>1</td>\n",
       "      <td>0</td>\n",
       "      <td>0</td>\n",
       "    </tr>\n",
       "    <tr>\n",
       "      <th>27118</th>\n",
       "      <td>1</td>\n",
       "      <td>28</td>\n",
       "      <td>784</td>\n",
       "      <td>14</td>\n",
       "      <td>196</td>\n",
       "      <td>0</td>\n",
       "      <td>1</td>\n",
       "      <td>0</td>\n",
       "      <td>1</td>\n",
       "      <td>0</td>\n",
       "      <td>0</td>\n",
       "    </tr>\n",
       "    <tr>\n",
       "      <th>27119</th>\n",
       "      <td>0</td>\n",
       "      <td>33</td>\n",
       "      <td>1089</td>\n",
       "      <td>14</td>\n",
       "      <td>196</td>\n",
       "      <td>1</td>\n",
       "      <td>2</td>\n",
       "      <td>0</td>\n",
       "      <td>1</td>\n",
       "      <td>0</td>\n",
       "      <td>0</td>\n",
       "    </tr>\n",
       "    <tr>\n",
       "      <th>27120</th>\n",
       "      <td>1</td>\n",
       "      <td>41</td>\n",
       "      <td>1681</td>\n",
       "      <td>10</td>\n",
       "      <td>100</td>\n",
       "      <td>1</td>\n",
       "      <td>0</td>\n",
       "      <td>0</td>\n",
       "      <td>1</td>\n",
       "      <td>0</td>\n",
       "      <td>0</td>\n",
       "    </tr>\n",
       "  </tbody>\n",
       "</table>\n",
       "<p>27074 rows × 11 columns</p>\n",
       "</div>"
      ],
      "text/plain": [
       "       participates  age  age_sqrd  education  education_sqrd  married  \\\n",
       "0                 1   50      2500          6              36        0   \n",
       "1                 1   27       729         11             121        0   \n",
       "2                 0   65      4225          2               4        0   \n",
       "3                 1   34      1156         11             121        0   \n",
       "4                 0   22       484         14             196        0   \n",
       "...             ...  ...       ...        ...             ...      ...   \n",
       "27116             1   29       841         14             196        0   \n",
       "27117             1   27       729         16             256        1   \n",
       "27118             1   28       784         14             196        0   \n",
       "27119             0   33      1089         14             196        1   \n",
       "27120             1   41      1681         10             100        1   \n",
       "\n",
       "       children  illness  coast  mountains  jungle  \n",
       "0             0        1      0          1       0  \n",
       "1             0        1      0          1       0  \n",
       "2             0        1      0          1       0  \n",
       "3             0        1      0          1       0  \n",
       "4             0        1      0          1       0  \n",
       "...         ...      ...    ...        ...     ...  \n",
       "27116         0        1      1          0       0  \n",
       "27117         1        0      1          0       0  \n",
       "27118         1        0      1          0       0  \n",
       "27119         2        0      1          0       0  \n",
       "27120         0        0      1          0       0  \n",
       "\n",
       "[27074 rows x 11 columns]"
      ]
     },
     "execution_count": 6,
     "metadata": {},
     "output_type": "execute_result"
    }
   ],
   "source": [
    "df_sqrd = df_sqrd.dropna()        # dropping missing values \n",
    "df_sqrd = df_sqrd.astype('int')\n",
    "df_sqrd"
   ]
  },
  {
   "cell_type": "code",
   "execution_count": 24,
   "id": "64be04e1",
   "metadata": {},
   "outputs": [],
   "source": [
    "df_sqrd.to_csv (r'C:/Users/Jose Pastor/Programación_en_finanzas_jupyter/codigos_diversos/ParticipacionLaboralFemenina-VariablesCuadrado-nomissingvalues.csv', index = False) "
   ]
  },
  {
   "cell_type": "markdown",
   "id": "4110268d",
   "metadata": {},
   "source": [
    "### Splitting data into train and test"
   ]
  },
  {
   "cell_type": "code",
   "execution_count": 7,
   "id": "750a6b4a",
   "metadata": {},
   "outputs": [],
   "source": [
    "X = df_sqrd.drop('participates', axis=1)\n",
    "y = df_sqrd['participates']\n",
    "\n",
    "X_train, X_test, y_train, y_test = train_test_split(X, y, test_size=0.20, random_state=42, stratify=y)\n",
    "        # stratify=y : mantiene la proporción de los datos población en las particiones train y test"
   ]
  },
  {
   "cell_type": "markdown",
   "id": "467fda14",
   "metadata": {},
   "source": [
    "--- \n",
    "# Predicting Models"
   ]
  },
  {
   "cell_type": "markdown",
   "id": "ce66ca14",
   "metadata": {},
   "source": [
    "## Logistic Regression"
   ]
  },
  {
   "cell_type": "code",
   "execution_count": 8,
   "id": "ebeb2beb",
   "metadata": {
    "scrolled": true
   },
   "outputs": [
    {
     "name": "stdout",
     "output_type": "stream",
     "text": [
      "AUC: 0.7284714090820503\n"
     ]
    }
   ],
   "source": [
    "classifier_log = LogisticRegression(max_iter=1000000, random_state = 0 )\n",
    "classifier_log.fit(X_train, y_train)\n",
    "\n",
    "y_prob = classifier_log.predict_proba(X_test)[:, 1]    # [:, 1] second column is the probability of success  \n",
    "\n",
    "print(\"AUC:\", metrics.roc_auc_score(y_test, y_prob))"
   ]
  },
  {
   "cell_type": "code",
   "execution_count": 9,
   "id": "7dfa0613",
   "metadata": {
    "scrolled": true
   },
   "outputs": [
    {
     "data": {
      "image/png": "[encoded data removed]",
      "text/plain": [
       "<Figure size 432x288 with 1 Axes>"
      ]
     },
     "metadata": {
      "needs_background": "light"
     },
     "output_type": "display_data"
    }
   ],
   "source": [
    "# AUC-ROC Curve: area under the ROC curve\n",
    "\n",
    "fpr, tpr, thresholds = metrics.roc_curve(y_test, y_prob)      # fpr: false positive rate, tpr: true positive rate \n",
    "auc = metrics.roc_auc_score(y_test, y_prob)\n",
    "\n",
    "plt.plot(fpr, tpr, label=\"Logit: Area under AUC = \" + str(auc))\n",
    "plt.legend(loc=4)\n",
    "plt.show()"
   ]
  },
  {
   "cell_type": "markdown",
   "id": "04a4b48e",
   "metadata": {},
   "source": [
    "## Decision Tree Classifier"
   ]
  },
  {
   "cell_type": "code",
   "execution_count": 12,
   "id": "97d15f40",
   "metadata": {},
   "outputs": [
    {
     "name": "stdout",
     "output_type": "stream",
     "text": [
      "AUC: 0.721560865328396\n"
     ]
    }
   ],
   "source": [
    "classifier_DTC = DecisionTreeClassifier (criterion=\"entropy\", max_depth = 10, random_state = 0)\n",
    "classifier_DTC.fit(X_train, y_train)\n",
    "\n",
    "y_prob_DTC = classifier_DTC.predict_proba(X_test)[:, 1]    # [:, 1] second column is the probability of success\n",
    "\n",
    "print(\"AUC:\", metrics.roc_auc_score(y_test, y_prob_DTC))"
   ]
  },
  {
   "cell_type": "code",
   "execution_count": 13,
   "id": "60bbc968",
   "metadata": {
    "scrolled": true
   },
   "outputs": [
    {
     "data": {
      "image/png": "[encoded data removed]",
      "text/plain": [
       "<Figure size 432x288 with 1 Axes>"
      ]
     },
     "metadata": {
      "needs_background": "light"
     },
     "output_type": "display_data"
    }
   ],
   "source": [
    "# AUC-ROC Curve: area under the ROC curve\n",
    "\n",
    "fpr2, tpr2, thresholds = metrics.roc_curve(y_test, y_prob_DTC)      # fpr: false positive rate, tpr: true positive rate\n",
    "auc = metrics.roc_auc_score(y_test, y_prob_DTC)\n",
    "\n",
    "plt.plot(fpr2, tpr2, label=\"Area under AUC curve = \" + str(auc))\n",
    "plt.legend(loc=4)\n",
    "plt.show()\n"
   ]
  },
  {
   "cell_type": "markdown",
   "id": "6682b0b9",
   "metadata": {},
   "source": [
    "# Support Vector Machine"
   ]
  },
  {
   "cell_type": "code",
   "execution_count": 15,
   "id": "62e76345",
   "metadata": {},
   "outputs": [
    {
     "name": "stdout",
     "output_type": "stream",
     "text": [
      "AUC: 0.6809719742740207\n"
     ]
    }
   ],
   "source": [
    "classifier_SVC = SVC(probability=True, random_state = 0)\n",
    "classifier_SVC.fit(X_train, y_train)\n",
    "\n",
    "y_prob_SVC = classifier_SVC.predict_proba(X_test)[:, 1]\n",
    "\n",
    "print(\"AUC:\", metrics.roc_auc_score(y_test, y_prob_SVC))"
   ]
  },
  {
   "cell_type": "code",
   "execution_count": 16,
   "id": "1c206439",
   "metadata": {
    "scrolled": true
   },
   "outputs": [
    {
     "data": {
      "image/png": "[encoded data removed]",
      "text/plain": [
       "<Figure size 432x288 with 1 Axes>"
      ]
     },
     "metadata": {
      "needs_background": "light"
     },
     "output_type": "display_data"
    }
   ],
   "source": [
    "# AUC-ROC Curve: area under the ROC curve\n",
    "\n",
    "fpr3, tpr3, thresholds = metrics.roc_curve(y_test, y_prob_SVC)      # fpr: false positive rate, tpr: true positive rate \n",
    "auc = metrics.roc_auc_score(y_test, y_prob_SVC)\n",
    "\n",
    "plt.plot(fpr3, tpr3, label=\"Area under AUC curve = \" + str(auc))\n",
    "plt.legend(loc=4)\n",
    "plt.show()"
   ]
  },
  {
   "cell_type": "markdown",
   "id": "26defff5",
   "metadata": {},
   "source": [
    "### Analysis\n",
    "The Logistic Regression model presents a greater area under the AUC curve. This means that it is the best model to predict whether a Peruvian woman will participate in the Peruvian labor market.\n",
    "\n",
    "Compared with previous analyses, the three models presented above (Logistic, DTC, SVC) present greater AUC when the squares of the variables integrated to the base are used."
   ]
  }
 ],
 "metadata": {
  "kernelspec": {
   "display_name": "Python 3 (ipykernel)",
   "language": "python",
   "name": "python3"
  },
  "language_info": {
   "codemirror_mode": {
    "name": "ipython",
    "version": 3
   },
   "file_extension": ".py",
   "mimetype": "text/x-python",
   "name": "python",
   "nbconvert_exporter": "python",
   "pygments_lexer": "ipython3",
   "version": "3.9.7"
  }
 },
 "nbformat": 4,
 "nbformat_minor": 5
}
