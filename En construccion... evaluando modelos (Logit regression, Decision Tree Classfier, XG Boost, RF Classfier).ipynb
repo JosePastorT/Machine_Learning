{
 "cells": [
  {
   "cell_type": "markdown",
   "id": "08a455bc",
   "metadata": {},
   "source": [
    "# Modelo Supervisado\n",
    "\n",
    "Métodos: Logistic Regression, Decision Tree Classifier, XG Boost y Random Forest Classifier\n",
    "\n",
    "Objetivo: Predecir la participación en el mercado laboral peruano por parte de mujeres en edad PEA. \n",
    "\n",
    "Características a ser evaluadas: edad, nivel de escolaridad, estado civil, cantidad de hijos, estado de salud y región geográfica de residencia. "
   ]
  },
  {
   "cell_type": "markdown",
   "metadata": {},
   "source": [
    "### Preparando datos"
   ]
  },
  {
   "cell_type": "code",
   "execution_count": 33,
   "metadata": {},
   "outputs": [],
   "source": [
    "import os\n",
    "\n",
    "import pandas as pd\n",
    "import numpy as np\n",
    "import matplotlib.pyplot as plt\n",
    "import seaborn as sns\n",
    "\n",
    "# import warnings\n",
    "# warnings.filterwarnings('ignore')"
   ]
  },
  {
   "cell_type": "code",
   "execution_count": 3,
   "metadata": {},
   "outputs": [],
   "source": [
    "# librerías para el Modelamiento analítico\n",
    "\n",
    "from sklearn.model_selection import train_test_split\n",
    "from sklearn.tree import DecisionTreeClassifier\n",
    "from sklearn.ensemble import RandomForestClassifier\n",
    "from sklearn.linear_model import LogisticRegression\n",
    "from xgboost import XGBClassifier\n",
    "from sklearn.feature_selection import RFE\n",
    "from scipy import stats\n",
    "\n",
    "from sklearn.metrics import f1_score, roc_auc_score, accuracy_score, precision_score, recall_score\n",
    "\n",
    "from imblearn.over_sampling import SMOTE\n",
    "\n",
    "#Abrir anaconda prompt con permisos de administrador\n",
    "#conda install -c conda-forge imbalanced-learn\n",
    "#conda install -c conda-forge scikit-learn\n",
    "#cerrar jupyter notebook por completo y volver a abrirlo"
   ]
  },
  {
   "cell_type": "code",
   "execution_count": 34,
   "metadata": {},
   "outputs": [],
   "source": [
    "df = pd.read_csv('C:/Users/Jose Pastor/Documents/GitHub/Jose_Pastor_r_py_jl/dataGitHub/ParticipacionLaboralFemenina_nomissingvalues.csv', encoding='latin-1')"
   ]
  },
  {
   "cell_type": "code",
   "execution_count": 35,
   "metadata": {},
   "outputs": [
    {
     "data": {
      "text/html": [
       "<div>\n",
       "<style scoped>\n",
       "    .dataframe tbody tr th:only-of-type {\n",
       "        vertical-align: middle;\n",
       "    }\n",
       "\n",
       "    .dataframe tbody tr th {\n",
       "        vertical-align: top;\n",
       "    }\n",
       "\n",
       "    .dataframe thead th {\n",
       "        text-align: right;\n",
       "    }\n",
       "</style>\n",
       "<table border=\"1\" class=\"dataframe\">\n",
       "  <thead>\n",
       "    <tr style=\"text-align: right;\">\n",
       "      <th></th>\n",
       "      <th>participa</th>\n",
       "      <th>edad</th>\n",
       "      <th>escolaridad</th>\n",
       "      <th>convcas</th>\n",
       "      <th>nninos</th>\n",
       "      <th>enfermedad</th>\n",
       "      <th>costa</th>\n",
       "      <th>sierra</th>\n",
       "      <th>selva</th>\n",
       "    </tr>\n",
       "  </thead>\n",
       "  <tbody>\n",
       "    <tr>\n",
       "      <th>0</th>\n",
       "      <td>1.0</td>\n",
       "      <td>50</td>\n",
       "      <td>6.0</td>\n",
       "      <td>0</td>\n",
       "      <td>0</td>\n",
       "      <td>1.0</td>\n",
       "      <td>0</td>\n",
       "      <td>1</td>\n",
       "      <td>0</td>\n",
       "    </tr>\n",
       "    <tr>\n",
       "      <th>1</th>\n",
       "      <td>1.0</td>\n",
       "      <td>27</td>\n",
       "      <td>11.0</td>\n",
       "      <td>0</td>\n",
       "      <td>0</td>\n",
       "      <td>1.0</td>\n",
       "      <td>0</td>\n",
       "      <td>1</td>\n",
       "      <td>0</td>\n",
       "    </tr>\n",
       "    <tr>\n",
       "      <th>2</th>\n",
       "      <td>0.0</td>\n",
       "      <td>65</td>\n",
       "      <td>2.0</td>\n",
       "      <td>0</td>\n",
       "      <td>0</td>\n",
       "      <td>1.0</td>\n",
       "      <td>0</td>\n",
       "      <td>1</td>\n",
       "      <td>0</td>\n",
       "    </tr>\n",
       "    <tr>\n",
       "      <th>3</th>\n",
       "      <td>1.0</td>\n",
       "      <td>34</td>\n",
       "      <td>11.0</td>\n",
       "      <td>0</td>\n",
       "      <td>0</td>\n",
       "      <td>1.0</td>\n",
       "      <td>0</td>\n",
       "      <td>1</td>\n",
       "      <td>0</td>\n",
       "    </tr>\n",
       "    <tr>\n",
       "      <th>4</th>\n",
       "      <td>0.0</td>\n",
       "      <td>22</td>\n",
       "      <td>14.0</td>\n",
       "      <td>0</td>\n",
       "      <td>0</td>\n",
       "      <td>1.0</td>\n",
       "      <td>0</td>\n",
       "      <td>1</td>\n",
       "      <td>0</td>\n",
       "    </tr>\n",
       "    <tr>\n",
       "      <th>...</th>\n",
       "      <td>...</td>\n",
       "      <td>...</td>\n",
       "      <td>...</td>\n",
       "      <td>...</td>\n",
       "      <td>...</td>\n",
       "      <td>...</td>\n",
       "      <td>...</td>\n",
       "      <td>...</td>\n",
       "      <td>...</td>\n",
       "    </tr>\n",
       "    <tr>\n",
       "      <th>27069</th>\n",
       "      <td>1.0</td>\n",
       "      <td>29</td>\n",
       "      <td>14.0</td>\n",
       "      <td>0</td>\n",
       "      <td>0</td>\n",
       "      <td>1.0</td>\n",
       "      <td>1</td>\n",
       "      <td>0</td>\n",
       "      <td>0</td>\n",
       "    </tr>\n",
       "    <tr>\n",
       "      <th>27070</th>\n",
       "      <td>1.0</td>\n",
       "      <td>27</td>\n",
       "      <td>16.0</td>\n",
       "      <td>1</td>\n",
       "      <td>1</td>\n",
       "      <td>0.0</td>\n",
       "      <td>1</td>\n",
       "      <td>0</td>\n",
       "      <td>0</td>\n",
       "    </tr>\n",
       "    <tr>\n",
       "      <th>27071</th>\n",
       "      <td>1.0</td>\n",
       "      <td>28</td>\n",
       "      <td>14.0</td>\n",
       "      <td>0</td>\n",
       "      <td>1</td>\n",
       "      <td>0.0</td>\n",
       "      <td>1</td>\n",
       "      <td>0</td>\n",
       "      <td>0</td>\n",
       "    </tr>\n",
       "    <tr>\n",
       "      <th>27072</th>\n",
       "      <td>0.0</td>\n",
       "      <td>33</td>\n",
       "      <td>14.0</td>\n",
       "      <td>1</td>\n",
       "      <td>2</td>\n",
       "      <td>0.0</td>\n",
       "      <td>1</td>\n",
       "      <td>0</td>\n",
       "      <td>0</td>\n",
       "    </tr>\n",
       "    <tr>\n",
       "      <th>27073</th>\n",
       "      <td>1.0</td>\n",
       "      <td>41</td>\n",
       "      <td>10.0</td>\n",
       "      <td>1</td>\n",
       "      <td>0</td>\n",
       "      <td>0.0</td>\n",
       "      <td>1</td>\n",
       "      <td>0</td>\n",
       "      <td>0</td>\n",
       "    </tr>\n",
       "  </tbody>\n",
       "</table>\n",
       "<p>27074 rows × 9 columns</p>\n",
       "</div>"
      ],
      "text/plain": [
       "       participa  edad  escolaridad  convcas  nninos  enfermedad  costa  \\\n",
       "0            1.0    50          6.0        0       0         1.0      0   \n",
       "1            1.0    27         11.0        0       0         1.0      0   \n",
       "2            0.0    65          2.0        0       0         1.0      0   \n",
       "3            1.0    34         11.0        0       0         1.0      0   \n",
       "4            0.0    22         14.0        0       0         1.0      0   \n",
       "...          ...   ...          ...      ...     ...         ...    ...   \n",
       "27069        1.0    29         14.0        0       0         1.0      1   \n",
       "27070        1.0    27         16.0        1       1         0.0      1   \n",
       "27071        1.0    28         14.0        0       1         0.0      1   \n",
       "27072        0.0    33         14.0        1       2         0.0      1   \n",
       "27073        1.0    41         10.0        1       0         0.0      1   \n",
       "\n",
       "       sierra  selva  \n",
       "0           1      0  \n",
       "1           1      0  \n",
       "2           1      0  \n",
       "3           1      0  \n",
       "4           1      0  \n",
       "...       ...    ...  \n",
       "27069       0      0  \n",
       "27070       0      0  \n",
       "27071       0      0  \n",
       "27072       0      0  \n",
       "27073       0      0  \n",
       "\n",
       "[27074 rows x 9 columns]"
      ]
     },
     "execution_count": 35,
     "metadata": {},
     "output_type": "execute_result"
    }
   ],
   "source": [
    "df"
   ]
  },
  {
   "cell_type": "code",
   "execution_count": 6,
   "metadata": {
    "scrolled": true
   },
   "outputs": [
    {
     "data": {
      "text/plain": [
       "participa      float64\n",
       "edad             int64\n",
       "escolaridad    float64\n",
       "convcas          int64\n",
       "nninos           int64\n",
       "enfermedad     float64\n",
       "costa            int64\n",
       "sierra           int64\n",
       "selva            int64\n",
       "dtype: object"
      ]
     },
     "execution_count": 6,
     "metadata": {},
     "output_type": "execute_result"
    }
   ],
   "source": [
    "df.dtypes"
   ]
  },
  {
   "cell_type": "code",
   "execution_count": 7,
   "metadata": {
    "scrolled": true
   },
   "outputs": [
    {
     "data": {
      "text/plain": [
       "(27074, 9)"
      ]
     },
     "execution_count": 7,
     "metadata": {},
     "output_type": "execute_result"
    }
   ],
   "source": [
    "df.shape"
   ]
  },
  {
   "cell_type": "code",
   "execution_count": 8,
   "metadata": {
    "scrolled": false
   },
   "outputs": [
    {
     "data": {
      "text/html": [
       "<div>\n",
       "<style scoped>\n",
       "    .dataframe tbody tr th:only-of-type {\n",
       "        vertical-align: middle;\n",
       "    }\n",
       "\n",
       "    .dataframe tbody tr th {\n",
       "        vertical-align: top;\n",
       "    }\n",
       "\n",
       "    .dataframe thead th {\n",
       "        text-align: right;\n",
       "    }\n",
       "</style>\n",
       "<table border=\"1\" class=\"dataframe\">\n",
       "  <thead>\n",
       "    <tr style=\"text-align: right;\">\n",
       "      <th></th>\n",
       "      <th>participa</th>\n",
       "      <th>edad</th>\n",
       "      <th>escolaridad</th>\n",
       "      <th>convcas</th>\n",
       "      <th>nninos</th>\n",
       "      <th>enfermedad</th>\n",
       "      <th>costa</th>\n",
       "      <th>sierra</th>\n",
       "      <th>selva</th>\n",
       "    </tr>\n",
       "  </thead>\n",
       "  <tbody>\n",
       "    <tr>\n",
       "      <th>0</th>\n",
       "      <td>1.0</td>\n",
       "      <td>50</td>\n",
       "      <td>6.0</td>\n",
       "      <td>0</td>\n",
       "      <td>0</td>\n",
       "      <td>1.0</td>\n",
       "      <td>0</td>\n",
       "      <td>1</td>\n",
       "      <td>0</td>\n",
       "    </tr>\n",
       "    <tr>\n",
       "      <th>1</th>\n",
       "      <td>1.0</td>\n",
       "      <td>27</td>\n",
       "      <td>11.0</td>\n",
       "      <td>0</td>\n",
       "      <td>0</td>\n",
       "      <td>1.0</td>\n",
       "      <td>0</td>\n",
       "      <td>1</td>\n",
       "      <td>0</td>\n",
       "    </tr>\n",
       "    <tr>\n",
       "      <th>2</th>\n",
       "      <td>0.0</td>\n",
       "      <td>65</td>\n",
       "      <td>2.0</td>\n",
       "      <td>0</td>\n",
       "      <td>0</td>\n",
       "      <td>1.0</td>\n",
       "      <td>0</td>\n",
       "      <td>1</td>\n",
       "      <td>0</td>\n",
       "    </tr>\n",
       "    <tr>\n",
       "      <th>3</th>\n",
       "      <td>1.0</td>\n",
       "      <td>34</td>\n",
       "      <td>11.0</td>\n",
       "      <td>0</td>\n",
       "      <td>0</td>\n",
       "      <td>1.0</td>\n",
       "      <td>0</td>\n",
       "      <td>1</td>\n",
       "      <td>0</td>\n",
       "    </tr>\n",
       "    <tr>\n",
       "      <th>4</th>\n",
       "      <td>0.0</td>\n",
       "      <td>22</td>\n",
       "      <td>14.0</td>\n",
       "      <td>0</td>\n",
       "      <td>0</td>\n",
       "      <td>1.0</td>\n",
       "      <td>0</td>\n",
       "      <td>1</td>\n",
       "      <td>0</td>\n",
       "    </tr>\n",
       "    <tr>\n",
       "      <th>...</th>\n",
       "      <td>...</td>\n",
       "      <td>...</td>\n",
       "      <td>...</td>\n",
       "      <td>...</td>\n",
       "      <td>...</td>\n",
       "      <td>...</td>\n",
       "      <td>...</td>\n",
       "      <td>...</td>\n",
       "      <td>...</td>\n",
       "    </tr>\n",
       "    <tr>\n",
       "      <th>27069</th>\n",
       "      <td>1.0</td>\n",
       "      <td>29</td>\n",
       "      <td>14.0</td>\n",
       "      <td>0</td>\n",
       "      <td>0</td>\n",
       "      <td>1.0</td>\n",
       "      <td>1</td>\n",
       "      <td>0</td>\n",
       "      <td>0</td>\n",
       "    </tr>\n",
       "    <tr>\n",
       "      <th>27070</th>\n",
       "      <td>1.0</td>\n",
       "      <td>27</td>\n",
       "      <td>16.0</td>\n",
       "      <td>1</td>\n",
       "      <td>1</td>\n",
       "      <td>0.0</td>\n",
       "      <td>1</td>\n",
       "      <td>0</td>\n",
       "      <td>0</td>\n",
       "    </tr>\n",
       "    <tr>\n",
       "      <th>27071</th>\n",
       "      <td>1.0</td>\n",
       "      <td>28</td>\n",
       "      <td>14.0</td>\n",
       "      <td>0</td>\n",
       "      <td>1</td>\n",
       "      <td>0.0</td>\n",
       "      <td>1</td>\n",
       "      <td>0</td>\n",
       "      <td>0</td>\n",
       "    </tr>\n",
       "    <tr>\n",
       "      <th>27072</th>\n",
       "      <td>0.0</td>\n",
       "      <td>33</td>\n",
       "      <td>14.0</td>\n",
       "      <td>1</td>\n",
       "      <td>2</td>\n",
       "      <td>0.0</td>\n",
       "      <td>1</td>\n",
       "      <td>0</td>\n",
       "      <td>0</td>\n",
       "    </tr>\n",
       "    <tr>\n",
       "      <th>27073</th>\n",
       "      <td>1.0</td>\n",
       "      <td>41</td>\n",
       "      <td>10.0</td>\n",
       "      <td>1</td>\n",
       "      <td>0</td>\n",
       "      <td>0.0</td>\n",
       "      <td>1</td>\n",
       "      <td>0</td>\n",
       "      <td>0</td>\n",
       "    </tr>\n",
       "  </tbody>\n",
       "</table>\n",
       "<p>27074 rows × 9 columns</p>\n",
       "</div>"
      ],
      "text/plain": [
       "       participa  edad  escolaridad  convcas  nninos  enfermedad  costa  \\\n",
       "0            1.0    50          6.0        0       0         1.0      0   \n",
       "1            1.0    27         11.0        0       0         1.0      0   \n",
       "2            0.0    65          2.0        0       0         1.0      0   \n",
       "3            1.0    34         11.0        0       0         1.0      0   \n",
       "4            0.0    22         14.0        0       0         1.0      0   \n",
       "...          ...   ...          ...      ...     ...         ...    ...   \n",
       "27069        1.0    29         14.0        0       0         1.0      1   \n",
       "27070        1.0    27         16.0        1       1         0.0      1   \n",
       "27071        1.0    28         14.0        0       1         0.0      1   \n",
       "27072        0.0    33         14.0        1       2         0.0      1   \n",
       "27073        1.0    41         10.0        1       0         0.0      1   \n",
       "\n",
       "       sierra  selva  \n",
       "0           1      0  \n",
       "1           1      0  \n",
       "2           1      0  \n",
       "3           1      0  \n",
       "4           1      0  \n",
       "...       ...    ...  \n",
       "27069       0      0  \n",
       "27070       0      0  \n",
       "27071       0      0  \n",
       "27072       0      0  \n",
       "27073       0      0  \n",
       "\n",
       "[27074 rows x 9 columns]"
      ]
     },
     "execution_count": 8,
     "metadata": {},
     "output_type": "execute_result"
    }
   ],
   "source": [
    "df = df[['participa', 'edad', 'escolaridad', 'convcas', 'nninos', 'enfermedad', 'costa', 'sierra', 'selva']].copy()\n",
    "df"
   ]
  },
  {
   "cell_type": "code",
   "execution_count": 9,
   "metadata": {
    "scrolled": true
   },
   "outputs": [
    {
     "data": {
      "text/html": [
       "<div>\n",
       "<style scoped>\n",
       "    .dataframe tbody tr th:only-of-type {\n",
       "        vertical-align: middle;\n",
       "    }\n",
       "\n",
       "    .dataframe tbody tr th {\n",
       "        vertical-align: top;\n",
       "    }\n",
       "\n",
       "    .dataframe thead th {\n",
       "        text-align: right;\n",
       "    }\n",
       "</style>\n",
       "<table border=\"1\" class=\"dataframe\">\n",
       "  <thead>\n",
       "    <tr style=\"text-align: right;\">\n",
       "      <th></th>\n",
       "      <th>participa</th>\n",
       "      <th>edad</th>\n",
       "      <th>escolaridad</th>\n",
       "      <th>convcas</th>\n",
       "      <th>nninos</th>\n",
       "      <th>enfermedad</th>\n",
       "      <th>costa</th>\n",
       "      <th>sierra</th>\n",
       "      <th>selva</th>\n",
       "      <th>edad_cuad</th>\n",
       "      <th>escol_cuad</th>\n",
       "    </tr>\n",
       "  </thead>\n",
       "  <tbody>\n",
       "    <tr>\n",
       "      <th>0</th>\n",
       "      <td>1.0</td>\n",
       "      <td>50</td>\n",
       "      <td>6.0</td>\n",
       "      <td>0</td>\n",
       "      <td>0</td>\n",
       "      <td>1.0</td>\n",
       "      <td>0</td>\n",
       "      <td>1</td>\n",
       "      <td>0</td>\n",
       "      <td>2500</td>\n",
       "      <td>36.0</td>\n",
       "    </tr>\n",
       "    <tr>\n",
       "      <th>1</th>\n",
       "      <td>1.0</td>\n",
       "      <td>27</td>\n",
       "      <td>11.0</td>\n",
       "      <td>0</td>\n",
       "      <td>0</td>\n",
       "      <td>1.0</td>\n",
       "      <td>0</td>\n",
       "      <td>1</td>\n",
       "      <td>0</td>\n",
       "      <td>729</td>\n",
       "      <td>121.0</td>\n",
       "    </tr>\n",
       "    <tr>\n",
       "      <th>2</th>\n",
       "      <td>0.0</td>\n",
       "      <td>65</td>\n",
       "      <td>2.0</td>\n",
       "      <td>0</td>\n",
       "      <td>0</td>\n",
       "      <td>1.0</td>\n",
       "      <td>0</td>\n",
       "      <td>1</td>\n",
       "      <td>0</td>\n",
       "      <td>4225</td>\n",
       "      <td>4.0</td>\n",
       "    </tr>\n",
       "    <tr>\n",
       "      <th>3</th>\n",
       "      <td>1.0</td>\n",
       "      <td>34</td>\n",
       "      <td>11.0</td>\n",
       "      <td>0</td>\n",
       "      <td>0</td>\n",
       "      <td>1.0</td>\n",
       "      <td>0</td>\n",
       "      <td>1</td>\n",
       "      <td>0</td>\n",
       "      <td>1156</td>\n",
       "      <td>121.0</td>\n",
       "    </tr>\n",
       "    <tr>\n",
       "      <th>4</th>\n",
       "      <td>0.0</td>\n",
       "      <td>22</td>\n",
       "      <td>14.0</td>\n",
       "      <td>0</td>\n",
       "      <td>0</td>\n",
       "      <td>1.0</td>\n",
       "      <td>0</td>\n",
       "      <td>1</td>\n",
       "      <td>0</td>\n",
       "      <td>484</td>\n",
       "      <td>196.0</td>\n",
       "    </tr>\n",
       "    <tr>\n",
       "      <th>...</th>\n",
       "      <td>...</td>\n",
       "      <td>...</td>\n",
       "      <td>...</td>\n",
       "      <td>...</td>\n",
       "      <td>...</td>\n",
       "      <td>...</td>\n",
       "      <td>...</td>\n",
       "      <td>...</td>\n",
       "      <td>...</td>\n",
       "      <td>...</td>\n",
       "      <td>...</td>\n",
       "    </tr>\n",
       "    <tr>\n",
       "      <th>27069</th>\n",
       "      <td>1.0</td>\n",
       "      <td>29</td>\n",
       "      <td>14.0</td>\n",
       "      <td>0</td>\n",
       "      <td>0</td>\n",
       "      <td>1.0</td>\n",
       "      <td>1</td>\n",
       "      <td>0</td>\n",
       "      <td>0</td>\n",
       "      <td>841</td>\n",
       "      <td>196.0</td>\n",
       "    </tr>\n",
       "    <tr>\n",
       "      <th>27070</th>\n",
       "      <td>1.0</td>\n",
       "      <td>27</td>\n",
       "      <td>16.0</td>\n",
       "      <td>1</td>\n",
       "      <td>1</td>\n",
       "      <td>0.0</td>\n",
       "      <td>1</td>\n",
       "      <td>0</td>\n",
       "      <td>0</td>\n",
       "      <td>729</td>\n",
       "      <td>256.0</td>\n",
       "    </tr>\n",
       "    <tr>\n",
       "      <th>27071</th>\n",
       "      <td>1.0</td>\n",
       "      <td>28</td>\n",
       "      <td>14.0</td>\n",
       "      <td>0</td>\n",
       "      <td>1</td>\n",
       "      <td>0.0</td>\n",
       "      <td>1</td>\n",
       "      <td>0</td>\n",
       "      <td>0</td>\n",
       "      <td>784</td>\n",
       "      <td>196.0</td>\n",
       "    </tr>\n",
       "    <tr>\n",
       "      <th>27072</th>\n",
       "      <td>0.0</td>\n",
       "      <td>33</td>\n",
       "      <td>14.0</td>\n",
       "      <td>1</td>\n",
       "      <td>2</td>\n",
       "      <td>0.0</td>\n",
       "      <td>1</td>\n",
       "      <td>0</td>\n",
       "      <td>0</td>\n",
       "      <td>1089</td>\n",
       "      <td>196.0</td>\n",
       "    </tr>\n",
       "    <tr>\n",
       "      <th>27073</th>\n",
       "      <td>1.0</td>\n",
       "      <td>41</td>\n",
       "      <td>10.0</td>\n",
       "      <td>1</td>\n",
       "      <td>0</td>\n",
       "      <td>0.0</td>\n",
       "      <td>1</td>\n",
       "      <td>0</td>\n",
       "      <td>0</td>\n",
       "      <td>1681</td>\n",
       "      <td>100.0</td>\n",
       "    </tr>\n",
       "  </tbody>\n",
       "</table>\n",
       "<p>27074 rows × 11 columns</p>\n",
       "</div>"
      ],
      "text/plain": [
       "       participa  edad  escolaridad  convcas  nninos  enfermedad  costa  \\\n",
       "0            1.0    50          6.0        0       0         1.0      0   \n",
       "1            1.0    27         11.0        0       0         1.0      0   \n",
       "2            0.0    65          2.0        0       0         1.0      0   \n",
       "3            1.0    34         11.0        0       0         1.0      0   \n",
       "4            0.0    22         14.0        0       0         1.0      0   \n",
       "...          ...   ...          ...      ...     ...         ...    ...   \n",
       "27069        1.0    29         14.0        0       0         1.0      1   \n",
       "27070        1.0    27         16.0        1       1         0.0      1   \n",
       "27071        1.0    28         14.0        0       1         0.0      1   \n",
       "27072        0.0    33         14.0        1       2         0.0      1   \n",
       "27073        1.0    41         10.0        1       0         0.0      1   \n",
       "\n",
       "       sierra  selva  edad_cuad  escol_cuad  \n",
       "0           1      0       2500        36.0  \n",
       "1           1      0        729       121.0  \n",
       "2           1      0       4225         4.0  \n",
       "3           1      0       1156       121.0  \n",
       "4           1      0        484       196.0  \n",
       "...       ...    ...        ...         ...  \n",
       "27069       0      0        841       196.0  \n",
       "27070       0      0        729       256.0  \n",
       "27071       0      0        784       196.0  \n",
       "27072       0      0       1089       196.0  \n",
       "27073       0      0       1681       100.0  \n",
       "\n",
       "[27074 rows x 11 columns]"
      ]
     },
     "execution_count": 9,
     "metadata": {},
     "output_type": "execute_result"
    }
   ],
   "source": [
    "# generando variables al cuadrado para atender la característica marginal decreciente de las variables edad y escolaridad\n",
    "\n",
    "df[\"edad_cuad\"] = df[\"edad\"]**2\n",
    "df[\"escol_cuad\"] = df[\"escolaridad\"]**2\n",
    "df"
   ]
  },
  {
   "cell_type": "markdown",
   "metadata": {},
   "source": [
    "# Analisis univariados y detección de outliers"
   ]
  },
  {
   "cell_type": "code",
   "execution_count": 10,
   "metadata": {
    "scrolled": false
   },
   "outputs": [
    {
     "data": {
      "text/html": [
       "<div>\n",
       "<style scoped>\n",
       "    .dataframe tbody tr th:only-of-type {\n",
       "        vertical-align: middle;\n",
       "    }\n",
       "\n",
       "    .dataframe tbody tr th {\n",
       "        vertical-align: top;\n",
       "    }\n",
       "\n",
       "    .dataframe thead th {\n",
       "        text-align: right;\n",
       "    }\n",
       "</style>\n",
       "<table border=\"1\" class=\"dataframe\">\n",
       "  <thead>\n",
       "    <tr style=\"text-align: right;\">\n",
       "      <th></th>\n",
       "      <th>count</th>\n",
       "      <th>mean</th>\n",
       "      <th>std</th>\n",
       "      <th>min</th>\n",
       "      <th>1%</th>\n",
       "      <th>5%</th>\n",
       "      <th>50%</th>\n",
       "      <th>95%</th>\n",
       "      <th>99%</th>\n",
       "      <th>max</th>\n",
       "    </tr>\n",
       "  </thead>\n",
       "  <tbody>\n",
       "    <tr>\n",
       "      <th>participa</th>\n",
       "      <td>27074.0</td>\n",
       "      <td>0.676738</td>\n",
       "      <td>0.467730</td>\n",
       "      <td>0.0</td>\n",
       "      <td>0.0</td>\n",
       "      <td>0.0</td>\n",
       "      <td>1.0</td>\n",
       "      <td>1.0</td>\n",
       "      <td>1.0</td>\n",
       "      <td>1.0</td>\n",
       "    </tr>\n",
       "    <tr>\n",
       "      <th>edad</th>\n",
       "      <td>27074.0</td>\n",
       "      <td>37.417264</td>\n",
       "      <td>14.823812</td>\n",
       "      <td>14.0</td>\n",
       "      <td>14.0</td>\n",
       "      <td>15.0</td>\n",
       "      <td>37.0</td>\n",
       "      <td>62.0</td>\n",
       "      <td>65.0</td>\n",
       "      <td>65.0</td>\n",
       "    </tr>\n",
       "    <tr>\n",
       "      <th>escolaridad</th>\n",
       "      <td>27074.0</td>\n",
       "      <td>10.719842</td>\n",
       "      <td>4.191012</td>\n",
       "      <td>0.0</td>\n",
       "      <td>0.0</td>\n",
       "      <td>2.0</td>\n",
       "      <td>11.0</td>\n",
       "      <td>16.0</td>\n",
       "      <td>18.0</td>\n",
       "      <td>18.0</td>\n",
       "    </tr>\n",
       "    <tr>\n",
       "      <th>convcas</th>\n",
       "      <td>27074.0</td>\n",
       "      <td>0.482862</td>\n",
       "      <td>0.499715</td>\n",
       "      <td>0.0</td>\n",
       "      <td>0.0</td>\n",
       "      <td>0.0</td>\n",
       "      <td>0.0</td>\n",
       "      <td>1.0</td>\n",
       "      <td>1.0</td>\n",
       "      <td>1.0</td>\n",
       "    </tr>\n",
       "    <tr>\n",
       "      <th>nninos</th>\n",
       "      <td>27074.0</td>\n",
       "      <td>0.424651</td>\n",
       "      <td>0.674553</td>\n",
       "      <td>0.0</td>\n",
       "      <td>0.0</td>\n",
       "      <td>0.0</td>\n",
       "      <td>0.0</td>\n",
       "      <td>2.0</td>\n",
       "      <td>3.0</td>\n",
       "      <td>5.0</td>\n",
       "    </tr>\n",
       "    <tr>\n",
       "      <th>enfermedad</th>\n",
       "      <td>27074.0</td>\n",
       "      <td>0.500776</td>\n",
       "      <td>0.500009</td>\n",
       "      <td>0.0</td>\n",
       "      <td>0.0</td>\n",
       "      <td>0.0</td>\n",
       "      <td>1.0</td>\n",
       "      <td>1.0</td>\n",
       "      <td>1.0</td>\n",
       "      <td>1.0</td>\n",
       "    </tr>\n",
       "    <tr>\n",
       "      <th>costa</th>\n",
       "      <td>27074.0</td>\n",
       "      <td>0.394585</td>\n",
       "      <td>0.488770</td>\n",
       "      <td>0.0</td>\n",
       "      <td>0.0</td>\n",
       "      <td>0.0</td>\n",
       "      <td>0.0</td>\n",
       "      <td>1.0</td>\n",
       "      <td>1.0</td>\n",
       "      <td>1.0</td>\n",
       "    </tr>\n",
       "    <tr>\n",
       "      <th>sierra</th>\n",
       "      <td>27074.0</td>\n",
       "      <td>0.240157</td>\n",
       "      <td>0.427186</td>\n",
       "      <td>0.0</td>\n",
       "      <td>0.0</td>\n",
       "      <td>0.0</td>\n",
       "      <td>0.0</td>\n",
       "      <td>1.0</td>\n",
       "      <td>1.0</td>\n",
       "      <td>1.0</td>\n",
       "    </tr>\n",
       "    <tr>\n",
       "      <th>selva</th>\n",
       "      <td>27074.0</td>\n",
       "      <td>0.172158</td>\n",
       "      <td>0.377525</td>\n",
       "      <td>0.0</td>\n",
       "      <td>0.0</td>\n",
       "      <td>0.0</td>\n",
       "      <td>0.0</td>\n",
       "      <td>1.0</td>\n",
       "      <td>1.0</td>\n",
       "      <td>1.0</td>\n",
       "    </tr>\n",
       "    <tr>\n",
       "      <th>edad_cuad</th>\n",
       "      <td>27074.0</td>\n",
       "      <td>1619.788912</td>\n",
       "      <td>1151.142218</td>\n",
       "      <td>196.0</td>\n",
       "      <td>196.0</td>\n",
       "      <td>225.0</td>\n",
       "      <td>1369.0</td>\n",
       "      <td>3844.0</td>\n",
       "      <td>4225.0</td>\n",
       "      <td>4225.0</td>\n",
       "    </tr>\n",
       "    <tr>\n",
       "      <th>escol_cuad</th>\n",
       "      <td>27074.0</td>\n",
       "      <td>132.478947</td>\n",
       "      <td>81.427464</td>\n",
       "      <td>0.0</td>\n",
       "      <td>0.0</td>\n",
       "      <td>4.0</td>\n",
       "      <td>121.0</td>\n",
       "      <td>256.0</td>\n",
       "      <td>324.0</td>\n",
       "      <td>324.0</td>\n",
       "    </tr>\n",
       "  </tbody>\n",
       "</table>\n",
       "</div>"
      ],
      "text/plain": [
       "               count         mean          std    min     1%     5%     50%  \\\n",
       "participa    27074.0     0.676738     0.467730    0.0    0.0    0.0     1.0   \n",
       "edad         27074.0    37.417264    14.823812   14.0   14.0   15.0    37.0   \n",
       "escolaridad  27074.0    10.719842     4.191012    0.0    0.0    2.0    11.0   \n",
       "convcas      27074.0     0.482862     0.499715    0.0    0.0    0.0     0.0   \n",
       "nninos       27074.0     0.424651     0.674553    0.0    0.0    0.0     0.0   \n",
       "enfermedad   27074.0     0.500776     0.500009    0.0    0.0    0.0     1.0   \n",
       "costa        27074.0     0.394585     0.488770    0.0    0.0    0.0     0.0   \n",
       "sierra       27074.0     0.240157     0.427186    0.0    0.0    0.0     0.0   \n",
       "selva        27074.0     0.172158     0.377525    0.0    0.0    0.0     0.0   \n",
       "edad_cuad    27074.0  1619.788912  1151.142218  196.0  196.0  225.0  1369.0   \n",
       "escol_cuad   27074.0   132.478947    81.427464    0.0    0.0    4.0   121.0   \n",
       "\n",
       "                95%     99%     max  \n",
       "participa       1.0     1.0     1.0  \n",
       "edad           62.0    65.0    65.0  \n",
       "escolaridad    16.0    18.0    18.0  \n",
       "convcas         1.0     1.0     1.0  \n",
       "nninos          2.0     3.0     5.0  \n",
       "enfermedad      1.0     1.0     1.0  \n",
       "costa           1.0     1.0     1.0  \n",
       "sierra          1.0     1.0     1.0  \n",
       "selva           1.0     1.0     1.0  \n",
       "edad_cuad    3844.0  4225.0  4225.0  \n",
       "escol_cuad    256.0   324.0   324.0  "
      ]
     },
     "execution_count": 10,
     "metadata": {},
     "output_type": "execute_result"
    }
   ],
   "source": [
    "# Principales estadísticos\n",
    "\n",
    "df.describe(percentiles=[0.01,0.05,0.95,0.99]).T"
   ]
  },
  {
   "cell_type": "code",
   "execution_count": 11,
   "metadata": {
    "scrolled": false
   },
   "outputs": [
    {
     "data": {
      "text/plain": [
       "participa     -0.755781\n",
       "edad           0.111875\n",
       "escolaridad   -0.650639\n",
       "convcas        0.068597\n",
       "nninos         1.676750\n",
       "enfermedad    -0.003103\n",
       "costa          0.431379\n",
       "sierra         1.216624\n",
       "selva          1.736928\n",
       "edad_cuad      0.579366\n",
       "escol_cuad     0.280312\n",
       "dtype: float64"
      ]
     },
     "execution_count": 11,
     "metadata": {},
     "output_type": "execute_result"
    }
   ],
   "source": [
    "# tratamiento de outliers\n",
    "# \"skewness\"\n",
    "\n",
    "df.skew(axis = 0, skipna = True)   # si \"skewness\" es grande, hay cola derecha (outliers)\n",
    "                                   # si \"skewness\" es negativo, hay cola izquierda (outliers)"
   ]
  },
  {
   "cell_type": "markdown",
   "metadata": {},
   "source": [
    "### Histograma para notar observaciones atípicas o outliers"
   ]
  },
  {
   "cell_type": "code",
   "execution_count": 12,
   "metadata": {
    "scrolled": true
   },
   "outputs": [
    {
     "data": {
      "image/png": "[encoded data removed]",
      "text/plain": [
       "<Figure size 1008x360 with 1 Axes>"
      ]
     },
     "metadata": {
      "needs_background": "light"
     },
     "output_type": "display_data"
    },
    {
     "data": {
      "image/png": "[encoded data removed]",
      "text/plain": [
       "<Figure size 1008x360 with 1 Axes>"
      ]
     },
     "metadata": {
      "needs_background": "light"
     },
     "output_type": "display_data"
    },
    {
     "data": {
      "image/png": "[encoded data removed]",
      "text/plain": [
       "<Figure size 1008x360 with 1 Axes>"
      ]
     },
     "metadata": {
      "needs_background": "light"
     },
     "output_type": "display_data"
    },
    {
     "data": {
      "image/png": "[encoded data removed]",
      "text/plain": [
       "<Figure size 1008x360 with 1 Axes>"
      ]
     },
     "metadata": {
      "needs_background": "light"
     },
     "output_type": "display_data"
    },
    {
     "data": {
      "image/png": "[encoded data removed]",
      "text/plain": [
       "<Figure size 1008x360 with 1 Axes>"
      ]
     },
     "metadata": {
      "needs_background": "light"
     },
     "output_type": "display_data"
    },
    {
     "data": {
      "image/png": "[encoded data removed]",
      "text/plain": [
       "<Figure size 1008x360 with 1 Axes>"
      ]
     },
     "metadata": {
      "needs_background": "light"
     },
     "output_type": "display_data"
    },
    {
     "data": {
      "image/png": "[encoded data removed]",
      "text/plain": [
       "<Figure size 1008x360 with 1 Axes>"
      ]
     },
     "metadata": {
      "needs_background": "light"
     },
     "output_type": "display_data"
    },
    {
     "data": {
      "image/png": "[encoded data removed]",
      "text/plain": [
       "<Figure size 1008x360 with 1 Axes>"
      ]
     },
     "metadata": {
      "needs_background": "light"
     },
     "output_type": "display_data"
    },
    {
     "data": {
      "image/png": "[encoded data removed]",
      "text/plain": [
       "<Figure size 1008x360 with 1 Axes>"
      ]
     },
     "metadata": {
      "needs_background": "light"
     },
     "output_type": "display_data"
    },
    {
     "data": {
      "image/png": "[encoded data removed]",
      "text/plain": [
       "<Figure size 1008x360 with 1 Axes>"
      ]
     },
     "metadata": {
      "needs_background": "light"
     },
     "output_type": "display_data"
    },
    {
     "data": {
      "image/png": "[encoded data removed]",
      "text/plain": [
       "<Figure size 1008x360 with 1 Axes>"
      ]
     },
     "metadata": {
      "needs_background": "light"
     },
     "output_type": "display_data"
    }
   ],
   "source": [
    "for col in df.columns:\n",
    "    plt.figure(figsize=(14, 5))\n",
    "    sns.histplot(data = df, x = col, bins = 50)\n",
    "    plt.title(col)\n",
    "    plt.show()\n"
   ]
  },
  {
   "cell_type": "markdown",
   "metadata": {},
   "source": [
    "# Análisis multivariado"
   ]
  },
  {
   "cell_type": "markdown",
   "metadata": {},
   "source": [
    "### Matriz de Correlación"
   ]
  },
  {
   "cell_type": "code",
   "execution_count": 13,
   "metadata": {},
   "outputs": [
    {
     "data": {
      "text/plain": [
       "Text(0.5, 1.0, 'Correlation Heatmap')"
      ]
     },
     "execution_count": 13,
     "metadata": {},
     "output_type": "execute_result"
    },
    {
     "data": {
      "image/png": "[encoded data removed]",
      "text/plain": [
       "<Figure size 576x504 with 2 Axes>"
      ]
     },
     "metadata": {
      "needs_background": "light"
     },
     "output_type": "display_data"
    }
   ],
   "source": [
    "# Ordenando variables de mayor a menor importancia\n",
    "\n",
    "k = 20   # k : number of variables for heatmap\n",
    "\n",
    "corrmat = df.corr() \n",
    "  \n",
    "cols = corrmat.nlargest(k, 'participa')['participa'].index\n",
    "  \n",
    "cm = np.corrcoef(df[cols].values.T)\n",
    "f, ax = plt.subplots(figsize =(8, 7))\n",
    "  \n",
    "my_heatmap = sns.heatmap(cm, vmin=-1, vmax=1, ax = ax, annot=True, cmap =\"coolwarm\", linewidths = 0.1, yticklabels = cols.values, xticklabels = cols.values)\n",
    "my_heatmap.set_title('Correlation Heatmap')\n",
    "\n",
    "####  ANÁLISIS  ####\n",
    "# la matriz de correlación muestra que la variable más importante para conocer una variación positiva de la participación laboral femenina es la edad de la mujer.\n",
    "# Por el contratio la variable con correlación más débil y negativa es la cantidad de niños que tiene la mujer. A más niños, menos participación laboral.\n",
    "# Recordar que este orden es medido en magnitud. Para ordenarlos según la certaza de que esta magnitud sea significante, ver RandomForestClassifier."
   ]
  },
  {
   "cell_type": "code",
   "execution_count": 14,
   "metadata": {
    "scrolled": false
   },
   "outputs": [],
   "source": [
    "# Grid Correlation Matrix\n",
    "\n",
    "# cg = sns.clustermap(df.corr(), vmin=-1, vmax=1, cmap =\"coolwarm\", linewidths = 0.1)\n",
    "# plt.setp(cg.ax_heatmap.yaxis.get_majorticklabels(), rotation = 0)"
   ]
  },
  {
   "cell_type": "code",
   "execution_count": 15,
   "metadata": {},
   "outputs": [
    {
     "data": {
      "text/plain": [
       "SpearmanrResult(correlation=0.2371193712878805, pvalue=0.0)"
      ]
     },
     "execution_count": 15,
     "metadata": {},
     "output_type": "execute_result"
    }
   ],
   "source": [
    "# alternativa al coeficiente de Pearson que asume una relación lineal de variables, este coeficiente asume una relación monotónica.\n",
    "stats.spearmanr(df[\"participa\"], df[\"edad\"])"
   ]
  },
  {
   "cell_type": "markdown",
   "metadata": {},
   "source": [
    "# Separación de muestra"
   ]
  },
  {
   "cell_type": "code",
   "execution_count": 16,
   "metadata": {},
   "outputs": [],
   "source": [
    "X = df.drop('participa', axis=1)  \n",
    "y = df['participa']\n",
    "\n",
    "X_train, X_test, y_train, y_test = train_test_split( X, y, test_size=0.20, random_state=4, stratify=y)\n",
    "        # stratify=y : mantiene la proporción de los datos población en las particiones train y test"
   ]
  },
  {
   "cell_type": "code",
   "execution_count": 17,
   "metadata": {},
   "outputs": [
    {
     "name": "stdout",
     "output_type": "stream",
     "text": [
      "Train set: (21659, 10) (21659,)\n",
      "Test set: (5415, 10) (5415,)\n"
     ]
    }
   ],
   "source": [
    "print ('Train set:', X_train.shape,  y_train.shape)\n",
    "print ('Test set:', X_test.shape,  y_test.shape)"
   ]
  },
  {
   "cell_type": "markdown",
   "metadata": {},
   "source": [
    "# Balanceo de datos\n",
    "Se realiza balanceo de datos cuando las clases estan muy desproporcionadas..ya que puede pasar que un modelo sobreaprenda de una clase y no de la otra, lo cual es una deficiencia del modelo ya que la idea es que aprenda a distinguir bien las clases sobre las cuales va a trabajar. Esto ocurre, por ejemplo, si hay muchos 1 y pocos 0 en nuestra muestra.\n",
    "\n",
    "SMOTE (Técnica de sobremuestreo de Minorías Sintéticas) consiste en la síntesis de elementos para la clase minoritaria, basados en los que ya existen. Funciona eligiendo al azar un punto de la clase minoritaria y calcula los k vecinos más cercanos para este punto. Los puntos sintéticos se agregan entre el punto elegido y sus vecinos."
   ]
  },
  {
   "cell_type": "code",
   "execution_count": 18,
   "metadata": {
    "scrolled": true
   },
   "outputs": [
    {
     "data": {
      "text/plain": [
       "1.0    14657\n",
       "0.0     7002\n",
       "Name: participa, dtype: int64"
      ]
     },
     "execution_count": 18,
     "metadata": {},
     "output_type": "execute_result"
    }
   ],
   "source": [
    "y_train.value_counts()    # la muestra bastante desbalaceada con respecto a la variable categórica"
   ]
  },
  {
   "cell_type": "markdown",
   "metadata": {},
   "source": [
    "- **método undersampling**: eliminará datos para encontrar un balance\n",
    "- **método oversampling tradicional**: aumenta la base minoritaria duplicándo observaciones\n",
    "- **método oversampling SMOTE**: aumenta la base minoritaria con individuos sintéticos con clustering"
   ]
  },
  {
   "cell_type": "code",
   "execution_count": 19,
   "metadata": {},
   "outputs": [
    {
     "data": {
      "text/plain": [
       "1.0    0.676716\n",
       "0.0    0.323284\n",
       "Name: participa, dtype: float64"
      ]
     },
     "execution_count": 19,
     "metadata": {},
     "output_type": "execute_result"
    }
   ],
   "source": [
    "y_train.value_counts(normalize=True)"
   ]
  },
  {
   "cell_type": "code",
   "execution_count": 20,
   "metadata": {},
   "outputs": [],
   "source": [
    "# aplicando método SMOTE #\n",
    "\n",
    "smote = SMOTE(random_state=20)\n",
    "X_sm, y_sm = smote.fit_sample(X_train, y_train)   # muestras balanceadas\n",
    "\n",
    "columns_X = X_train.columns\n",
    "columns_y = [\"participa\"]\n",
    "\n",
    "X_train_balanced = pd.DataFrame(data=X_sm, columns=columns_X)\n",
    "y_train_balanced = pd.DataFrame(data=y_sm, columns=columns_y)"
   ]
  },
  {
   "cell_type": "code",
   "execution_count": 21,
   "metadata": {},
   "outputs": [
    {
     "data": {
      "text/plain": [
       "0.0    14657\n",
       "1.0    14657\n",
       "Name: participa, dtype: int64"
      ]
     },
     "execution_count": 21,
     "metadata": {},
     "output_type": "execute_result"
    }
   ],
   "source": [
    "y_train_balanced[\"participa\"].value_counts()"
   ]
  },
  {
   "cell_type": "code",
   "execution_count": 22,
   "metadata": {},
   "outputs": [],
   "source": [
    "# renombrando bases balanceadas\n",
    "\n",
    "X_train_bal = X_train_balanced\n",
    "y_train_bal = y_train_balanced[\"participa\"]"
   ]
  },
  {
   "cell_type": "markdown",
   "metadata": {},
   "source": [
    "# Seleccion de variables relevantes\n",
    "(feature importance)\n",
    "## RandomForestClassifier\n",
    "\n",
    "\n",
    "Encontrando las variables más significativas para entender la variación de la endógena \"participa\"\n"
   ]
  },
  {
   "cell_type": "code",
   "execution_count": 23,
   "metadata": {},
   "outputs": [],
   "source": [
    "# Feature Extraction with RFE met hod\n",
    "model = RandomForestClassifier(max_depth= 8, n_estimators= 50 )\n",
    "    # Utiliza todas las variables. Modelo de RandomForestClassifier (tipo árbol), se puede utilizar otros modelos como un algoritmo logístico, un modelo de Boosting, etc. \n",
    "    # Genera 50 árboles, con 8 niveles, y los pondera para hacer mejores predicciones.\n",
    "\n",
    "rfe = RFE(model, step=1, n_features_to_select=7)   \n",
    "    # RFE utiliza el algoritmo RandomForestClassifier para entrenar y escoger las características más relevantes. \n",
    "    # Evalúa y elimina variables de una en una (step=1) hasta quedarse con las que sean más relevantes.\n",
    "    # n_features_to_select=5 : 5 características a escoger (quedarse).\n",
    "    \n",
    "fit = rfe.fit(X_train_bal, y_train_bal)"
   ]
  },
  {
   "cell_type": "code",
   "execution_count": 24,
   "metadata": {},
   "outputs": [
    {
     "data": {
      "image/png": "[encoded data removed]",
      "text/plain": [
       "<Figure size 432x288 with 1 Axes>"
      ]
     },
     "metadata": {
      "needs_background": "light"
     },
     "output_type": "display_data"
    }
   ],
   "source": [
    "# Graficando horizontal bar plot of feature importance\n",
    "# Mientras menor sea el número de modelos, serán las mejores variables para nuestro modelo.\n",
    "\n",
    "pos = np.arange(len(X_train_bal.columns)) + 0.5\n",
    "plt.barh(pos, fit.ranking_, align='center')\n",
    "plt.title(\"Feature Importance\")\n",
    "plt.xlabel(\"Número de Modelos\")\n",
    "plt.ylabel(\"Features\")\n",
    "plt.yticks(pos, (X_train_bal.columns))\n",
    "plt.grid(True)"
   ]
  },
  {
   "cell_type": "code",
   "execution_count": 25,
   "metadata": {},
   "outputs": [],
   "source": [
    "# quedándonos con las características seleccionadas\n",
    "\n",
    "features_selected = X_train.columns[fit.support_]     \n",
    "            # fit.support_ : tiene los índices de las variables que continuan en el modelo \n",
    "            # TRUE se quedan, FALSE no se quedan"
   ]
  },
  {
   "cell_type": "code",
   "execution_count": 26,
   "metadata": {},
   "outputs": [
    {
     "data": {
      "text/plain": [
       "Index(['edad', 'escolaridad', 'enfermedad', 'sierra', 'selva', 'edad_cuad',\n",
       "       'escol_cuad'],\n",
       "      dtype='object')"
      ]
     },
     "execution_count": 26,
     "metadata": {},
     "output_type": "execute_result"
    }
   ],
   "source": [
    "features_selected"
   ]
  },
  {
   "cell_type": "markdown",
   "metadata": {},
   "source": [
    "## Entrenamiento y validación de modelos"
   ]
  },
  {
   "cell_type": "code",
   "execution_count": 27,
   "metadata": {},
   "outputs": [],
   "source": [
    "# Define parámetros que serán usados en los modelos\n",
    "\n",
    "models = []      # lista que recibirá la etiqueta y el algoritmo\n",
    "\n",
    "# 4 Modelos analíticos que serán comparados (podemos agregar más)\n",
    "\n",
    "# creando tuplas (\"nombre del modelo\", método para el modelo)\n",
    "models.append((\"DecisionTree\",   DecisionTreeClassifier (criterion=\"entropy\", max_depth = 10, random_state = 0)))\n",
    "models.append((\"LogRegression\",  LogisticRegression     (C=1.0, random_state = 42))) \n",
    "models.append((\"XGBoost\",        XGBClassifier          (colsample_bytree=0.7, learning_rate=0.01, max_depth=6, n_estimators=100, objective= 'binary:logistic', random_state = 42)))\n",
    "models.append((\"R.F.Classifier\", RandomForestClassifier (max_depth= 10, max_features='auto', n_estimators= 200, random_state = 42)))"
   ]
  },
  {
   "cell_type": "code",
   "execution_count": 28,
   "metadata": {},
   "outputs": [],
   "source": [
    "# Evalúa métricas y devuelve métricas involucradas\n",
    "\n",
    "def eval_metrics(y_test, y_pred, y_prob):\n",
    "    accuracy  = accuracy_score(y_test, y_pred)\n",
    "    auc       = roc_auc_score(y_test, y_prob)      # Qué tan bien discrimina el modelo, pero no depende de algún punto de corte\n",
    "                                                   # Mientras mayor sea el valor auc, mejor será el modelo!!!\n",
    "    score_f1  = f1_score(y_test, y_pred)\n",
    "    precision = precision_score(y_test, y_pred)\n",
    "    recall    = recall_score(y_test, y_pred)\n",
    "    \n",
    "    return (accuracy, auc, score_f1, precision, recall)"
   ]
  },
  {
   "cell_type": "code",
   "execution_count": 29,
   "metadata": {},
   "outputs": [
    {
     "data": {
      "text/plain": [
       "[('DecisionTree',\n",
       "  DecisionTreeClassifier(criterion='entropy', max_depth=10, random_state=0)),\n",
       " ('LogRegression', LogisticRegression(random_state=42)),\n",
       " ('XGBoost',\n",
       "  XGBClassifier(base_score=None, booster=None, callbacks=None,\n",
       "                colsample_bylevel=None, colsample_bynode=None,\n",
       "                colsample_bytree=0.7, early_stopping_rounds=None,\n",
       "                enable_categorical=False, eval_metric=None, gamma=None,\n",
       "                gpu_id=None, grow_policy=None, importance_type=None,\n",
       "                interaction_constraints=None, learning_rate=0.01, max_bin=None,\n",
       "                max_cat_to_onehot=None, max_delta_step=None, max_depth=6,\n",
       "                max_leaves=None, min_child_weight=None, missing=nan,\n",
       "                monotone_constraints=None, n_estimators=100, n_jobs=None,\n",
       "                num_parallel_tree=None, predictor=None, random_state=42,\n",
       "                reg_alpha=None, reg_lambda=None, ...)),\n",
       " ('R.F.Classifier',\n",
       "  RandomForestClassifier(max_depth=10, max_features='auto', n_estimators=200,\n",
       "                         random_state=42))]"
      ]
     },
     "execution_count": 29,
     "metadata": {},
     "output_type": "execute_result"
    }
   ],
   "source": [
    "models"
   ]
  },
  {
   "cell_type": "code",
   "execution_count": 30,
   "metadata": {
    "scrolled": true
   },
   "outputs": [],
   "source": [
    "# # graficando el DecisionTreeClassifier\n",
    "\n",
    "# classifier = DecisionTreeClassifier (criterion=\"entropy\", max_depth = 8, random_state = 42)\n",
    "# classifier.fit(X_train_balanced, y_train_balanced)\n",
    "\n",
    "# featuresNames = list(X_train_balanced.columns)\n",
    "\n",
    "# plt.rcParams['figure.figsize'] = (400, 350)\n",
    "# tree.plot_tree(classifier, feature_names = featuresNames, class_names =['0','1'], filled=True, rounded=True)\n",
    "# plt.savefig(\"DecisionTreeClassifier_participa.png\")\n",
    "# plt.show()"
   ]
  },
  {
   "cell_type": "code",
   "execution_count": 31,
   "metadata": {},
   "outputs": [
    {
     "name": "stderr",
     "output_type": "stream",
     "text": [
      "C:\\ProgramData\\Anaconda3\\lib\\site-packages\\sklearn\\linear_model\\_logistic.py:444: ConvergenceWarning: lbfgs failed to converge (status=1):\n",
      "STOP: TOTAL NO. of ITERATIONS REACHED LIMIT.\n",
      "\n",
      "Increase the number of iterations (max_iter) or scale the data as shown in:\n",
      "    https://scikit-learn.org/stable/modules/preprocessing.html\n",
      "Please also refer to the documentation for alternative solver options:\n",
      "    https://scikit-learn.org/stable/modules/linear_model.html#logistic-regression\n",
      "  n_iter_i = _check_optimize_result(\n",
      "C:\\ProgramData\\Anaconda3\\lib\\site-packages\\sklearn\\ensemble\\_forest.py:427: FutureWarning: `max_features='auto'` has been deprecated in 1.1 and will be removed in 1.3. To keep the past behaviour, explicitly set `max_features='sqrt'` or remove this parameter as it is also the default value for RandomForestClassifiers and ExtraTreesClassifiers.\n",
      "  warn(\n"
     ]
    }
   ],
   "source": [
    "# entrenando muchos modelos\n",
    "\n",
    "df_resultados = pd.DataFrame(columns=['Modelo','AUC', 'Accuracy','Score F1', 'Precision', 'Recall'])\n",
    "threshold = 0.5    # 50% de punto de corte (determinado estadísticamente o por expertice del negocio que puede ser muy conservador o más arriesgado)\n",
    "\n",
    "\n",
    "_X_train = X_train_bal\n",
    "_X_test = X_test\n",
    "_y_train = y_train_bal\n",
    "_y_test = y_test\n",
    "\n",
    "for name, model in models:\n",
    "    model_ = model.fit(_X_train, _y_train)\n",
    "    \n",
    "    #Evaluacion del modelo con datos de train\n",
    "    y_pred = (model_.predict_proba(_X_test)[:,1] >= threshold ).astype(int) \n",
    "    y_prob = model_.predict_proba(_X_test)[:, 1] #probability\n",
    "    (accuracy, auc, score_f1, precision, recall) = eval_metrics(_y_test,y_pred,y_prob) #metrics\n",
    "    dict_test = {'Modelo': [name], 'AUC': [auc], 'Accuracy': [accuracy], 'Score F1': [score_f1], 'Precision': [precision], 'Recall': [recall]} \n",
    "    \n",
    "\n",
    "    df_res_test = pd.DataFrame(dict_test)\n",
    "    df_resultados = df_resultados.append(df_res_test, ignore_index = True)"
   ]
  },
  {
   "cell_type": "code",
   "execution_count": 32,
   "metadata": {
    "scrolled": false
   },
   "outputs": [
    {
     "data": {
      "text/html": [
       "<div>\n",
       "<style scoped>\n",
       "    .dataframe tbody tr th:only-of-type {\n",
       "        vertical-align: middle;\n",
       "    }\n",
       "\n",
       "    .dataframe tbody tr th {\n",
       "        vertical-align: top;\n",
       "    }\n",
       "\n",
       "    .dataframe thead th {\n",
       "        text-align: right;\n",
       "    }\n",
       "</style>\n",
       "<table border=\"1\" class=\"dataframe\">\n",
       "  <thead>\n",
       "    <tr style=\"text-align: right;\">\n",
       "      <th></th>\n",
       "      <th>Modelo</th>\n",
       "      <th>AUC</th>\n",
       "      <th>Accuracy</th>\n",
       "      <th>Score F1</th>\n",
       "      <th>Precision</th>\n",
       "      <th>Recall</th>\n",
       "    </tr>\n",
       "  </thead>\n",
       "  <tbody>\n",
       "    <tr>\n",
       "      <th>0</th>\n",
       "      <td>DecisionTree</td>\n",
       "      <td>0.705881</td>\n",
       "      <td>0.688643</td>\n",
       "      <td>0.767384</td>\n",
       "      <td>0.776165</td>\n",
       "      <td>0.758799</td>\n",
       "    </tr>\n",
       "    <tr>\n",
       "      <th>1</th>\n",
       "      <td>LogRegression</td>\n",
       "      <td>0.680673</td>\n",
       "      <td>0.664820</td>\n",
       "      <td>0.743535</td>\n",
       "      <td>0.771102</td>\n",
       "      <td>0.717872</td>\n",
       "    </tr>\n",
       "    <tr>\n",
       "      <th>2</th>\n",
       "      <td>XGBoost</td>\n",
       "      <td>0.722308</td>\n",
       "      <td>0.700646</td>\n",
       "      <td>0.779426</td>\n",
       "      <td>0.777416</td>\n",
       "      <td>0.781446</td>\n",
       "    </tr>\n",
       "    <tr>\n",
       "      <th>3</th>\n",
       "      <td>R.F.Classifier</td>\n",
       "      <td>0.728505</td>\n",
       "      <td>0.700462</td>\n",
       "      <td>0.776830</td>\n",
       "      <td>0.783514</td>\n",
       "      <td>0.770259</td>\n",
       "    </tr>\n",
       "  </tbody>\n",
       "</table>\n",
       "</div>"
      ],
      "text/plain": [
       "           Modelo       AUC  Accuracy  Score F1  Precision    Recall\n",
       "0    DecisionTree  0.705881  0.688643  0.767384   0.776165  0.758799\n",
       "1   LogRegression  0.680673  0.664820  0.743535   0.771102  0.717872\n",
       "2         XGBoost  0.722308  0.700646  0.779426   0.777416  0.781446\n",
       "3  R.F.Classifier  0.728505  0.700462  0.776830   0.783514  0.770259"
      ]
     },
     "execution_count": 32,
     "metadata": {},
     "output_type": "execute_result"
    }
   ],
   "source": [
    "df_resultados.head()"
   ]
  },
  {
   "cell_type": "markdown",
   "metadata": {},
   "source": [
    "# Análisis de los resultados\n",
    "Recordemos que la estrategia radica en encontrar aquel modelo que presente mayor área bajo la curva AUC, pues eso significa que predice mejor la variable objetivo. Entonces, según por el último cuadro, el modelo Random Forest Classifier sería el mejor para predecir la participación de las mujeres en el mercado laboral peruano.\n",
    "\n",
    "Además, las variables más importantes son la edad, escolaridad, si tienen alguna enfermedad y la región de residencia."
   ]
  }
 ],
 "metadata": {
  "kernelspec": {
   "display_name": "Python 3 (ipykernel)",
   "language": "python",
   "name": "python3"
  },
  "language_info": {
   "codemirror_mode": {
    "name": "ipython",
    "version": 3
   },
   "file_extension": ".py",
   "mimetype": "text/x-python",
   "name": "python",
   "nbconvert_exporter": "python",
   "pygments_lexer": "ipython3",
   "version": "3.9.7"
  }
 },
 "nbformat": 4,
 "nbformat_minor": 4
}
